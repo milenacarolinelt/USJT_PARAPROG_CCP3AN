{
 "cells": [
  {
   "cell_type": "markdown",
   "metadata": {},
   "source": [
    "## FUNÇÃO 03"
   ]
  },
  {
   "cell_type": "code",
   "execution_count": 1,
   "metadata": {},
   "outputs": [
    {
     "name": "stdout",
     "output_type": "stream",
     "text": [
      "5\n",
      "7\n",
      "2\n"
     ]
    }
   ],
   "source": [
    "prim_alg = lambda n: int(str(n)[:1])\n",
    "\n",
    "print(prim_alg(5649))\n",
    "print(prim_alg(7))\n",
    "print(prim_alg(220))"
   ]
  },
  {
   "cell_type": "markdown",
   "metadata": {},
   "source": [
    "## TESTE UNITÁRIO"
   ]
  },
  {
   "cell_type": "code",
   "execution_count": null,
   "metadata": {},
   "outputs": [],
   "source": [
    "print('Começando o teste')\n",
    "assert(prim_alg(5649) == 5)\n",
    "assert(prim_alg(7) == 7)\n",
    "assert(prim_alg(220) == 2)\n",
    "print('Terminou.')"
   ]
  }
 ],
 "metadata": {
  "kernelspec": {
   "display_name": "Python 2",
   "language": "python",
   "name": "python2"
  },
  "language_info": {
   "codemirror_mode": {
    "name": "ipython",
    "version": 2
   },
   "file_extension": ".py",
   "mimetype": "text/x-python",
   "name": "python",
   "nbconvert_exporter": "python",
   "pygments_lexer": "ipython2",
   "version": "2.7.15"
  }
 },
 "nbformat": 4,
 "nbformat_minor": 2
}
