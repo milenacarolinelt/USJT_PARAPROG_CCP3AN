{
 "cells": [
  {
   "cell_type": "markdown",
   "metadata": {},
   "source": [
    "## FUNÇÃO 02"
   ]
  },
  {
   "cell_type": "code",
   "execution_count": 9,
   "metadata": {},
   "outputs": [
    {
     "name": "stdout",
     "output_type": "stream",
     "text": [
      "3\n",
      "1\n",
      "5\n"
     ]
    }
   ],
   "source": [
    "def div(m , n):\n",
    "    m = int(m)\n",
    "    n = int(n)\n",
    "    value = n\n",
    "    counter = 0\n",
    "    if n > m or m < 0 or n < 0:\n",
    "        return 0\n",
    "    elif n == 0:\n",
    "        print('Sem solução')\n",
    "        return\n",
    "    while value <= m:\n",
    "        counter += 1\n",
    "        value += n\n",
    "    return counter\n",
    "\n",
    "print(div(7, 2))\n",
    "print(div(3, 2))\n",
    "print(div(20, 4))"
   ]
  },
  {
   "cell_type": "markdown",
   "metadata": {},
   "source": [
    "## TESTE UNITÁRIO"
   ]
  },
  {
   "cell_type": "code",
   "execution_count": 10,
   "metadata": {},
   "outputs": [
    {
     "name": "stdout",
     "output_type": "stream",
     "text": [
      "Começando teste...\n",
      "Teste concluido com exito.\n"
     ]
    }
   ],
   "source": [
    "print('Começando o teste')\n",
    "assert(div(7, 2) == 3)\n",
    "assert(div(3, 2) == 1)\n",
    "assert(div(20, 4) == 5)\n",
    "print('Terminou.')"
   ]
  },
  {
   "cell_type": "code",
   "execution_count": null,
   "metadata": {},
   "outputs": [],
   "source": []
  }
 ],
 "metadata": {
  "kernelspec": {
   "display_name": "Python 2",
   "language": "python",
   "name": "python2"
  },
  "language_info": {
   "codemirror_mode": {
    "name": "ipython",
    "version": 2
   },
   "file_extension": ".py",
   "mimetype": "text/x-python",
   "name": "python",
   "nbconvert_exporter": "python",
   "pygments_lexer": "ipython2",
   "version": "2.7.15"
  }
 },
 "nbformat": 4,
 "nbformat_minor": 2
}
