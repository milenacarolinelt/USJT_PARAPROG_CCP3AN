{
 "cells": [
  {
   "cell_type": "markdown",
   "metadata": {},
   "source": [
    "## FUNÇÃO 04"
   ]
  },
  {
   "cell_type": "code",
   "execution_count": 5,
   "metadata": {},
   "outputs": [
    {
     "name": "stdout",
     "output_type": "stream",
     "text": [
      "2\n",
      "120\n",
      "720\n"
     ]
    }
   ],
   "source": [
    "def prod_lista(n):\n",
    "    i = iter(n)\n",
    "    l_produto = 1\n",
    "    while True:\n",
    "        try:\n",
    "            l_produto *= next(i)\n",
    "        except StopIteration:\n",
    "            break\n",
    "    return l_produto\n",
    "\n",
    "print(prod_lista([1,2]))\n",
    "print(prod_lista([1,2,3,4,5]))\n",
    "print(prod_lista([1,2,3,4,5,6]))"
   ]
  },
  {
   "cell_type": "markdown",
   "metadata": {},
   "source": [
    "## TESTE UNITÁRIO"
   ]
  },
  {
   "cell_type": "code",
   "execution_count": 7,
   "metadata": {},
   "outputs": [
    {
     "name": "stdout",
     "output_type": "stream",
     "text": [
      "Começando o teste\n",
      "Terminou\n"
     ]
    }
   ],
   "source": [
    "print('Começando o teste')\n",
    "assert(prod_lista([1,2]) == 2)\n",
    "assert(prod_lista([1,2,3,4,5]) == 120)\n",
    "assert(prod_lista([1,2,3,4,5,6]) == 720)\n",
    "print('Terminou')\n"
   ]
  },
  {
   "cell_type": "code",
   "execution_count": null,
   "metadata": {},
   "outputs": [],
   "source": []
  }
 ],
 "metadata": {
  "kernelspec": {
   "display_name": "Python 2",
   "language": "python",
   "name": "python2"
  },
  "language_info": {
   "codemirror_mode": {
    "name": "ipython",
    "version": 2
   },
   "file_extension": ".py",
   "mimetype": "text/x-python",
   "name": "python",
   "nbconvert_exporter": "python",
   "pygments_lexer": "ipython2",
   "version": "2.7.15"
  }
 },
 "nbformat": 4,
 "nbformat_minor": 2
}
