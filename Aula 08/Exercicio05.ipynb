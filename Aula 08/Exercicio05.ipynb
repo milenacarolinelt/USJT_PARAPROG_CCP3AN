{
 "cells": [
  {
   "cell_type": "markdown",
   "metadata": {},
   "source": [
    "## FUNÇÃO 05"
   ]
  },
  {
   "cell_type": "code",
   "execution_count": 19,
   "metadata": {},
   "outputs": [
    {
     "name": "stdout",
     "output_type": "stream",
     "text": [
      "[True, False, False, True, False, True]\n",
      "[True, False, False, False]\n",
      "[False, False, False, False]\n"
     ]
    }
   ],
   "source": [
    "def maybe_par(fnc):\n",
    "    \n",
    "    def inner_par(*args):\n",
    "        \n",
    "        for a in args:\n",
    "            if isinstance(a, Exception):\n",
    "                return a\n",
    "        try:\n",
    "            return fnc(*args)\n",
    "        except Exception as e:\n",
    "            return e\n",
    "    return inner_par\n",
    "\n",
    "contem_parQ = maybe_par(lambda lista : list(map(lambda x: True if (x % 2 == 0) else False, lista)))\n",
    "print(contem_parQ([2,3,1,2,3,4]))\n",
    "print(contem_parQ([2,3,5,7]))\n",
    "print(contem_parQ([7,3,5,7]))\n"
   ]
  },
  {
   "cell_type": "code",
   "execution_count": null,
   "metadata": {},
   "outputs": [],
   "source": []
  }
 ],
 "metadata": {
  "kernelspec": {
   "display_name": "Python 2",
   "language": "python",
   "name": "python2"
  },
  "language_info": {
   "codemirror_mode": {
    "name": "ipython",
    "version": 2
   },
   "file_extension": ".py",
   "mimetype": "text/x-python",
   "name": "python",
   "nbconvert_exporter": "python",
   "pygments_lexer": "ipython2",
   "version": "2.7.15"
  }
 },
 "nbformat": 4,
 "nbformat_minor": 2
}
