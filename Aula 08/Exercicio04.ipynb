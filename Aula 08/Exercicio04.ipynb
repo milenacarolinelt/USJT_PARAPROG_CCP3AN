{
 "cells": [
  {
   "cell_type": "markdown",
   "metadata": {},
   "source": [
    "## FUNÇÃO 04"
   ]
  },
  {
   "cell_type": "code",
   "execution_count": 1,
   "metadata": {},
   "outputs": [
    {
     "name": "stdout",
     "output_type": "stream",
     "text": [
      "2\n",
      "120\n",
      "720\n"
     ]
    }
   ],
   "source": [
    "import operator\n",
    "from functools import reduce\n",
    "\n",
    "def maybe_prod(fnc):\n",
    "    \n",
    "    def inner_prod(*args):\n",
    "        \n",
    "        for a in args:\n",
    "            if isinstance(a, Exception):\n",
    "                return a\n",
    "        try:\n",
    "            return fnc(*args)\n",
    "        except Exception as e:\n",
    "            return e\n",
    "    return inner_prod\n",
    "\n",
    "prod_lista = maybe_prod(lambda x: reduce(operator.mul, x, 1))\n",
    "    \n",
    "print(prod_lista([1,2]))\n",
    "print(prod_lista([1,2,3,4,5]))\n",
    "print(prod_lista([1,2,3,4,5,6]))"
   ]
  },
  {
   "cell_type": "markdown",
   "metadata": {},
   "source": [
    "## TESTE UNITÁRIO"
   ]
  },
  {
   "cell_type": "code",
   "execution_count": 2,
   "metadata": {},
   "outputs": [
    {
     "name": "stdout",
     "output_type": "stream",
     "text": [
      "Começando o teste\n",
      "Terminou\n"
     ]
    }
   ],
   "source": [
    "print('Começando o teste')\n",
    "assert(prod_lista([1,2]) == 2)\n",
    "assert(prod_lista([1,2,3,4,5]) == 120)\n",
    "assert(prod_lista([1,2,3,4,5,6]) == 720)\n",
    "print('Terminou')\n"
   ]
  },
  {
   "cell_type": "code",
   "execution_count": null,
   "metadata": {},
   "outputs": [],
   "source": []
  }
 ],
 "metadata": {
  "kernelspec": {
   "display_name": "Python 2",
   "language": "python",
   "name": "python2"
  },
  "language_info": {
   "codemirror_mode": {
    "name": "ipython",
    "version": 2
   },
   "file_extension": ".py",
   "mimetype": "text/x-python",
   "name": "python",
   "nbconvert_exporter": "python",
   "pygments_lexer": "ipython2",
   "version": "2.7.15"
  }
 },
 "nbformat": 4,
 "nbformat_minor": 2
}
