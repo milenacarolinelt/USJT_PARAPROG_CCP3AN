{
 "cells": [
  {
   "cell_type": "markdown",
   "metadata": {},
   "source": [
    "## FUNÇÃO 02"
   ]
  },
  {
   "cell_type": "code",
   "execution_count": 1,
   "metadata": {},
   "outputs": [
    {
     "name": "stdout",
     "output_type": "stream",
     "text": [
      "3\n",
      "1\n",
      "5\n"
     ]
    }
   ],
   "source": [
    "def maybe_div(fnc):\n",
    "    \n",
    "    def inner_div(*args):\n",
    "        \n",
    "        for a in args:\n",
    "            if isinstance(a, Exception):\n",
    "                return a\n",
    "        try:\n",
    "            return fnc(*args)\n",
    "        except Exception as e:\n",
    "            return e\n",
    "    return inner_div\n",
    "\n",
    "div = maybe_div(lambda m,n: 1 + div(m - n, n) if m >= n else 0)\n",
    "\n",
    "print(div(7, 2))\n",
    "print(div(3, 2))\n",
    "print(div(20, 4))"
   ]
  },
  {
   "cell_type": "markdown",
   "metadata": {},
   "source": [
    "## TESTE UNITÁRIO"
   ]
  },
  {
   "cell_type": "code",
   "execution_count": 2,
   "metadata": {},
   "outputs": [
    {
     "name": "stdout",
     "output_type": "stream",
     "text": [
      "Começando o teste\n",
      "Terminou.\n"
     ]
    }
   ],
   "source": [
    "print('Começando o teste')\n",
    "assert(div(7, 2) == 3)\n",
    "assert(div(3, 2) == 1)\n",
    "assert(div(20, 4) == 5)\n",
    "print('Terminou.')"
   ]
  },
  {
   "cell_type": "code",
   "execution_count": null,
   "metadata": {},
   "outputs": [],
   "source": []
  }
 ],
 "metadata": {
  "kernelspec": {
   "display_name": "Python 2",
   "language": "python",
   "name": "python2"
  },
  "language_info": {
   "codemirror_mode": {
    "name": "ipython",
    "version": 2
   },
   "file_extension": ".py",
   "mimetype": "text/x-python",
   "name": "python",
   "nbconvert_exporter": "python",
   "pygments_lexer": "ipython2",
   "version": "2.7.15"
  }
 },
 "nbformat": 4,
 "nbformat_minor": 2
}
